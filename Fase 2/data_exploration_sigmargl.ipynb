{
 "cells": [
  {
   "cell_type": "code",
   "execution_count": null,
   "id": "133e4429-4efa-4e48-9298-03733eb6891e",
   "metadata": {},
   "outputs": [],
   "source": [
    "import pandas as pd\n",
    "import numpy as np\n",
    "import matplotlib.pyplot as plt\n",
    "import seaborn as sns\n",
    "import time\n",
    "from sklearn.model_selection import train_test_split\n",
    "from sklearn.impute import SimpleImputer\n",
    "from pandas import DatetimeIndex\n",
    "import socket, struct \n",
    "\n",
    "pd.set_option('display.max_columns', 500)\n",
    "%pip install folium"
   ]
  },
  {
   "cell_type": "code",
   "execution_count": null,
   "id": "73d8ef98-001e-4bcf-ad6f-b4d02127fc99",
   "metadata": {},
   "outputs": [],
   "source": [
    "df = pd.read_parquet('merged_simargl.gzip')"
   ]
  },
  {
   "cell_type": "code",
   "execution_count": null,
   "id": "532e636f-cfb5-455e-8311-fe1119ad99f6",
   "metadata": {},
   "outputs": [],
   "source": [
    "print(\"This dataset has {} columns and {} rows\".format(df.shape[1],df.shape[0]))"
   ]
  },
  {
   "cell_type": "code",
   "execution_count": null,
   "id": "6b29565b-edf9-40d2-8fed-69013755b114",
   "metadata": {},
   "outputs": [],
   "source": [
    "df.info()"
   ]
  },
  {
   "cell_type": "code",
   "execution_count": null,
   "id": "18e5e859-7480-4764-a85e-f307874bfbf5",
   "metadata": {},
   "outputs": [],
   "source": [
    "df.describe(include=[object])"
   ]
  },
  {
   "cell_type": "code",
   "execution_count": null,
   "id": "666da150-7160-42a5-b47d-3134ca462246",
   "metadata": {},
   "outputs": [],
   "source": [
    "df.describe()"
   ]
  },
  {
   "cell_type": "code",
   "execution_count": null,
   "id": "d57c42fb-2a37-490f-9ae9-ac74815d60d1",
   "metadata": {},
   "outputs": [],
   "source": [
    "# Can ignore NaN values\n",
    "df.nunique()"
   ]
  },
  {
   "cell_type": "code",
   "execution_count": null,
   "id": "f797bf59-9cac-4e3f-925a-6fe677e812a6",
   "metadata": {},
   "outputs": [],
   "source": [
    "df.duplicated().sum()"
   ]
  },
  {
   "cell_type": "code",
   "execution_count": null,
   "id": "12103eb9-c245-415d-8e78-8c52ec06a18e",
   "metadata": {},
   "outputs": [],
   "source": [
    "print(\"Total de valores nulos\")\n",
    "print(df.isnull().sum())"
   ]
  },
  {
   "cell_type": "code",
   "execution_count": null,
   "id": "3110a12a-2543-431d-858f-c376708aaec1",
   "metadata": {},
   "outputs": [],
   "source": [
    "cols = [\"IPV4_SRC_ADDR\", \"IPV4_DST_ADDR\", \"DST_TO_SRC_SECOND_BYTES\",\"SRC_TO_DST_SECOND_BYTES\", \"Attack\", \"L7_PROTO_NAME\", \"PROTOCOL_MAP\"]\n",
    "\n",
    "fig_nr_columns = 2\n",
    "fig_nr_rows = 4\n",
    "fig = plt.figure(1, figsize=[15,20])\n",
    "percentage = 2\n",
    "\n",
    "for k in range(len(cols)):\n",
    "    value_counts = df[cols[k]].value_counts()\n",
    "    percentage_values = (value_counts / len(df)) * 100\n",
    "    filtered_values = percentage_values[percentage_values > percentage]\n",
    "    filtered_values_others = percentage_values[percentage_values <= percentage]\n",
    "    filtered_values_others_sum = filtered_values_others.sum()\n",
    "    others_series = pd.Series({f'Others ({filtered_values_others_sum:.1f}%)\\n': filtered_values_others_sum})\n",
    "    filtered_values = pd.concat([filtered_values, others_series])\n",
    "    labels = filtered_values.index\n",
    "    sizes = filtered_values.values\n",
    "    ax = fig.add_subplot(fig_nr_rows, fig_nr_columns, k+1)\n",
    "    ax.pie(sizes, labels=None, autopct=None)\n",
    "    plt.axis('equal')\n",
    "    plt.title(\"Column: {}\".format(cols[k]), fontweight='bold', fontsize=15)\n",
    "    legend_labels = [f'{label}: {size:.1f}%' for label, size in zip(labels, sizes)]\n",
    "    plt.legend(legend_labels, loc='best')\n",
    "    count_less_than_two_percent = len(filtered_values_others)\n",
    "    plt.annotate(f' Other -> Number of rows with less than {percentage} percent: {count_less_than_two_percent}', xy=(0.5, 0.0), xycoords='axes fraction',ha='center', va='center')\n",
    "    \n",
    "plt.show()"
   ]
  },
  {
   "cell_type": "code",
   "execution_count": null,
   "id": "a70f9e06-979f-4b68-9811-675f0986f9cd",
   "metadata": {},
   "outputs": [],
   "source": [
    "cols = [\"L4_SRC_PORT\",\"L4_DST_PORT\",\"PROTOCOL\",\"IN_BYTES\",\"IN_PKTS\",\"OUT_BYTES\",\"OUT_PKTS\",\"TCP_FLAGS\",\"FLOW_DURATION_MILLISECONDS\",\n",
    "        \"MIN_IP_PKT_LEN\",\"MAX_IP_PKT_LEN\", \"SRC_TO_DST_SECOND_BYTES\", \"DST_TO_SRC_SECOND_BYTES\", \"RETRANSMITTED_IN_BYTES\",\"RETRANSMITTED_IN_PKTS\",\"RETRANSMITTED_OUT_BYTES\",\"RETRANSMITTED_OUT_PKTS\",\n",
    "        \"TCP_WIN_MAX_IN\",\"TCP_WIN_MAX_OUT\", \"Label\", \"PROTOCOL\"]\n",
    "\n",
    "fig_nr_columns = 2\n",
    "fig_nr_rows = 17\n",
    "fig = plt.figure(1, figsize=[40,70])\n",
    "\n",
    "for k in range(len(cols)):\n",
    "    num_bins = 100\n",
    "    ax = fig.add_subplot(fig_nr_rows, fig_nr_columns, k+1)\n",
    "    ax.hist(df[cols[k]], num_bins)\n",
    "    plt.title(\"Column: {}\".format(cols[k]), fontweight='bold')\n",
    "    plt.ylabel(\"Count\")\n",
    "\n",
    "plt.show()"
   ]
  },
  {
   "cell_type": "code",
   "execution_count": null,
   "id": "3034cf54-ebaf-4ae9-bbbb-f32fe4426da6",
   "metadata": {},
   "outputs": [],
   "source": [
    "def is_outlier(points, thresh=3.5):\n",
    "    if len(points.shape) == 1:\n",
    "        points = points[:,None]\n",
    "    median = np.median(points, axis=0)\n",
    "    diff = np.sum((points - median)**2, axis=-1)\n",
    "    diff = np.sqrt(diff)\n",
    "    med_abs_deviation = np.median(diff)\n",
    "\n",
    "    modified_z_score = 0.6745 * diff / med_abs_deviation\n",
    "\n",
    "    return modified_z_score > thresh\n",
    "\n",
    "\n",
    "cols = [\"L4_SRC_PORT\",\"L4_DST_PORT\",\"PROTOCOL\",\"IN_BYTES\",\"IN_PKTS\",\"OUT_BYTES\",\"OUT_PKTS\",\"TCP_FLAGS\",\"FLOW_DURATION_MILLISECONDS\",\n",
    "        \"MIN_IP_PKT_LEN\",\"MAX_IP_PKT_LEN\", \"SRC_TO_DST_SECOND_BYTES\", \"DST_TO_SRC_SECOND_BYTES\", \"RETRANSMITTED_IN_BYTES\",\"RETRANSMITTED_IN_PKTS\",\"RETRANSMITTED_OUT_BYTES\",\"RETRANSMITTED_OUT_PKTS\",\n",
    "        \"TCP_WIN_MAX_IN\",\"TCP_WIN_MAX_OUT\", \"Label\", \"PROTOCOL\"]\n",
    "\n",
    "fig_nr_columns = 2\n",
    "fig_nr_rows = 12\n",
    "c = 0\n",
    "fig = plt.figure(1, figsize=[25,37])\n",
    "for k in range(0,24,2):\n",
    "    num_bins = 100\n",
    "    plt.subplots_adjust(hspace=0.3, wspace=0.1)\n",
    "    ax = fig.add_subplot(fig_nr_rows, fig_nr_columns, k+1)\n",
    "    yvalues = np.array(df[cols[c]].dropna())\n",
    "    ax.boxplot(yvalues, vert=False)\n",
    "    plt.title(\"{} Raw  [{} - {}]\".format(cols[c], yvalues.min(), yvalues.max()), fontweight='bold')\n",
    "    \n",
    "    ax = fig.add_subplot(fig_nr_rows, fig_nr_columns, k+2)\n",
    "    yvalues_outliers = yvalues[~is_outlier(yvalues)]\n",
    "    percenteOutliers = ( 1 - ( len(yvalues_outliers)/len(yvalues) ) ) * 100\n",
    "    ax.boxplot(yvalues_outliers, vert=False)\n",
    "    plt.title(\"{} Without Outliers [{} - {}] - {}%\".format(cols[c], yvalues_outliers.min(), yvalues_outliers.max(),round(percenteOutliers,2)), fontweight='bold')\n",
    "    c += 1\n",
    "plt.show()"
   ]
  },
  {
   "cell_type": "code",
   "execution_count": null,
   "id": "74d5ae3b-273b-43a9-b0ad-f219b43117b4",
   "metadata": {},
   "outputs": [],
   "source": [
    "fig, ax = plt.subplots(figsize=(30, 15))\n",
    "sns.scatterplot(data=df, x=\"L4_SRC_PORT\", y=\"L4_DST_PORT\", hue=\"Attack\", ax=ax)"
   ]
  },
  {
   "cell_type": "code",
   "execution_count": null,
   "id": "bc3d510e-01e7-4342-9a44-3a8a3d000b48",
   "metadata": {},
   "outputs": [],
   "source": []
  }
 ],
 "metadata": {
  "kernelspec": {
   "display_name": "Python 3 (ipykernel)",
   "language": "python",
   "name": "python3"
  },
  "language_info": {
   "codemirror_mode": {
    "name": "ipython",
    "version": 3
   },
   "file_extension": ".py",
   "mimetype": "text/x-python",
   "name": "python",
   "nbconvert_exporter": "python",
   "pygments_lexer": "ipython3",
   "version": "3.9.12"
  }
 },
 "nbformat": 4,
 "nbformat_minor": 5
}
